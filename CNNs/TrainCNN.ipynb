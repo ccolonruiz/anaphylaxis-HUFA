{
 "cells": [
  {
   "cell_type": "code",
   "execution_count": 2,
   "metadata": {},
   "outputs": [],
   "source": [
    "import pandas as pd\n",
    "import numpy as np\n",
    "import Utils\n",
    "import tensorflow as tf\n",
    "import keras\n",
    "import pickle\n",
    "\n",
    "from sklearn.utils import class_weight\n",
    "from sklearn.model_selection import train_test_split\n",
    "from sklearn.metrics import classification_report, f1_score, accuracy_score, confusion_matrix\n",
    "from sklearn.metrics import precision_recall_fscore_support\n",
    "from gensim.models import Word2Vec\n",
    "from gensim.models.keyedvectors import KeyedVectors\n",
    "\n",
    "from keras.preprocessing.text import Tokenizer\n",
    "from keras.callbacks import ModelCheckpoint\n",
    "from keras.preprocessing.sequence import pad_sequences\n",
    "from keras.layers.merge import Concatenate\n",
    "from keras.layers import LSTM\n",
    "from keras.layers import Dense, Input, GlobalMaxPooling1D, GlobalAveragePooling1D, Flatten, Dropout\n",
    "from keras.layers import Conv1D, MaxPooling1D, Embedding, Merge, Reshape\n",
    "from keras.models import Model, load_model\n",
    "from keras.utils import to_categorical\n",
    "\n",
    "# import nltk\n",
    "# nltk.download('stopwords')\n",
    "\n",
    "from nltk.stem import SnowballStemmer\n",
    "from nltk.corpus import stopwords\n",
    "import unicodedata\n",
    "import re\n",
    "import gc"
   ]
  },
  {
   "cell_type": "code",
   "execution_count": 2,
   "metadata": {
    "collapsed": true
   },
   "outputs": [],
   "source": [
    "def load_W2V_model(path):\n",
    "    model = KeyedVectors.load_word2vec_format(path, binary=True)\n",
    "    print(\"Loaded W2V model\")\n",
    "    return model\n",
    "\n",
    "def load_data(path):\n",
    "    df = pd.read_csv(path, sep='\\t', index_col=0)\n",
    "    print(\"Loaded dataset:\", path)\n",
    "    return df\n",
    "\n",
    "def review_to_wordlist(raw_review, stemmer=False):\n",
    "    # Function to convert a raw review to a string of words\n",
    "    # The input is a single string (a raw movie review), and \n",
    "    # the output is a single string (a preprocessed movie review)\n",
    "    #\n",
    "    # 1. Remove accent marks\n",
    "    review_text = ''.join((c for c in unicodedata.normalize('NFD',str(raw_review)) if unicodedata.category(c) != 'Mn'))\n",
    "    #\n",
    "    # 2. Remove non-letters\n",
    "    #letters_only = re.sub(\"[^A-Za-z0-9]\", \" \", review_text) \n",
    "    letters_only = re.sub(\"[^\\w\\d]\", \" \", review_text) \n",
    "    #\n",
    "    # 2. Convert to lower case, split into individual words\n",
    "    words = letters_only.lower().split()                             \n",
    "    #\n",
    "    # 3. In Python, searching a set is much faster than searching\n",
    "    #   a list, so convert the stop words to a set\n",
    "    stops = set(stopwords.words(\"spanish\"))                  \n",
    "    # \n",
    "    # 4. Remove stop words and apply or not stemming\n",
    "    if stemmer:\n",
    "        meaningful_words = [stemmer.stem(w) for w in words if not w in stops]\n",
    "    else:\n",
    "        meaningful_words = [w for w in words if not w in stops]\n",
    "    #\n",
    "    # 5. Join the words back into one string separated by space, \n",
    "    # and return the result.\n",
    "    #return( \" \".join( meaningful_words ))\n",
    "    return meaningful_words"
   ]
  },
  {
   "cell_type": "code",
   "execution_count": 3,
   "metadata": {},
   "outputs": [
    {
     "name": "stdout",
     "output_type": "stream",
     "text": [
      "Loaded W2V model\n",
      "Loaded dataset: ./hufa_train_stem_skip/train\n",
      "Loaded dataset: ./hufa_test_stem_skip/test\n",
      "Loaded dataset: ./hufa_dev_stem_skip/dev\n"
     ]
    }
   ],
   "source": [
    "path_w2v_hufa = \"./W2V/hufa_stem-300-5w-10n-skip.bin\"\n",
    "path_w2v_wiki = \"./W2V/sbw_vectors.bin\"\n",
    "path_data_train = \"./hufa_train_stem_skip/train\"\n",
    "path_data_test = \"./hufa_test_stem_skip/test\"\n",
    "path_data_dev = \"./hufa_dev_stem_skip/dev\"\n",
    "\n",
    "MAX_NB_WORDS = 20000\n",
    "EMBEDDING_DIM = 300\n",
    "MAX_SEQUENCE_LENGTH = 2000\n",
    "#MAX_SEQUENCE_LENGTH = 2000\n",
    "\n",
    "stemmer = SnowballStemmer('spanish')\n",
    "model = load_W2V_model(path_w2v_hufa)\n",
    "df_train = load_data(path_data_train)\n",
    "df_test = load_data(path_data_test)\n",
    "df_dev = load_data(path_data_dev)\n",
    "tokenizer = Tokenizer(num_words=MAX_NB_WORDS)"
   ]
  },
  {
   "cell_type": "code",
   "execution_count": 6,
   "metadata": {},
   "outputs": [
    {
     "data": {
      "text/plain": [
       "(131940, 32986, 54976)"
      ]
     },
     "execution_count": 6,
     "metadata": {},
     "output_type": "execute_result"
    }
   ],
   "source": [
    "len(df_train), len(df_dev), len(df_test)"
   ]
  },
  {
   "cell_type": "code",
   "execution_count": 17,
   "metadata": {},
   "outputs": [
    {
     "data": {
      "text/plain": [
       "54473"
      ]
     },
     "execution_count": 17,
     "metadata": {},
     "output_type": "execute_result"
    }
   ],
   "source": [
    "len(df_test[df_test.label == False])"
   ]
  },
  {
   "cell_type": "code",
   "execution_count": 5,
   "metadata": {
    "collapsed": true
   },
   "outputs": [],
   "source": [
    "Xtrain = [review_to_wordlist(text, stemmer) for text in df_train.text]\n",
    "Ytrain = np.asarray(df_train.label)\n",
    "Xdev = [review_to_wordlist(text, stemmer) for text in df_dev.text]\n",
    "Ydev = np.asarray(df_dev.label)\n",
    "Xtest = [review_to_wordlist(text, stemmer) for text in df_test.text]\n",
    "Ytest = np.asarray(df_test.label)\n",
    "texts = Xtrain+Xdev+Xtest"
   ]
  },
  {
   "cell_type": "code",
   "execution_count": 21,
   "metadata": {},
   "outputs": [
    {
     "name": "stderr",
     "output_type": "stream",
     "text": [
      "/usr/local/lib/python3.5/dist-packages/matplotlib/axes/_axes.py:6462: UserWarning: The 'normed' kwarg is deprecated, and has been replaced by the 'density' kwarg.\n",
      "  warnings.warn(\"The 'normed' kwarg is deprecated, and has been \"\n"
     ]
    },
    {
     "data": {
      "image/png": "[encoded data removed]",
      "text/plain": [
       "<Figure size 1080x1080 with 1 Axes>"
      ]
     },
     "metadata": {},
     "output_type": "display_data"
    }
   ],
   "source": [
    "import matplotlib.pyplot as plt\n",
    "import seaborn as sns\n",
    "\n",
    "%matplotlib inline\n",
    "plt.subplots(figsize=(15,15))\n",
    "sns.set(color_codes=True)\n",
    "x = np.asarray([len(t) for t in texts])\n",
    "sns.distplot(x,);"
   ]
  },
  {
   "cell_type": "code",
   "execution_count": 6,
   "metadata": {
    "collapsed": true
   },
   "outputs": [],
   "source": [
    "tokenizer.fit_on_texts(texts)\n",
    "\n",
    "sequences_train = tokenizer.texts_to_sequences(Xtrain)\n",
    "sequences_dev = tokenizer.texts_to_sequences(Xdev)\n",
    "sequences_test = tokenizer.texts_to_sequences(Xtest)\n",
    "del Xtrain, Xdev, Xtest"
   ]
  },
  {
   "cell_type": "code",
   "execution_count": 7,
   "metadata": {},
   "outputs": [
    {
     "data": {
      "text/plain": [
       "0"
      ]
     },
     "execution_count": 7,
     "metadata": {},
     "output_type": "execute_result"
    }
   ],
   "source": [
    "# train 80% - dev 20%\n",
    "mitad = int(len(sequences_train)/2)\n",
    "Xdev = pad_sequences(sequences_dev, maxlen=MAX_SEQUENCE_LENGTH, padding='pre', truncating='pre', dtype='int16')\n",
    "Xtrain = pad_sequences(sequences_train[:mitad], maxlen=MAX_SEQUENCE_LENGTH, padding='pre', truncating='pre', dtype='int16')\n",
    "Xtrain = np.concatenate((Xtrain, pad_sequences(sequences_train[mitad:], maxlen=MAX_SEQUENCE_LENGTH, padding='pre', truncating='pre', dtype='int16')))\n",
    "Xtest = pad_sequences(sequences_test, maxlen=MAX_SEQUENCE_LENGTH, padding='pre', truncating='pre', dtype='int16')\n",
    "del sequences_dev, sequences_train, sequences_test\n",
    "gc.collect()"
   ]
  },
  {
   "cell_type": "code",
   "execution_count": 8,
   "metadata": {
    "collapsed": true
   },
   "outputs": [],
   "source": [
    "word_index = tokenizer.word_index\n",
    "num_words = min(MAX_NB_WORDS, len(word_index))\n",
    "embedding_matrix = np.zeros((num_words, EMBEDDING_DIM), dtype=np.float32)\n",
    "for word, i in word_index.items():\n",
    "    if i >= num_words:\n",
    "        continue\n",
    "    if word in model:\n",
    "        # words not found in embedding index will be all-zeros.\n",
    "        embedding_matrix[i] = model[word]"
   ]
  },
  {
   "cell_type": "code",
   "execution_count": 9,
   "metadata": {
    "collapsed": true
   },
   "outputs": [],
   "source": [
    "embedding_layer = Embedding(num_words,\n",
    "                            EMBEDDING_DIM,\n",
    "                            weights=[embedding_matrix],\n",
    "                            input_length=MAX_SEQUENCE_LENGTH,\n",
    "                            trainable=False)\n",
    "\n",
    "# class_W = class_weight.compute_class_weight('balanced', np.unique(np.asarray(df_train.label)), np.asarray(df_train.label))\n",
    "# class_weight_dict = dict(enumerate(class_W))\n",
    "\n",
    "class Metrics(keras.callbacks.Callback):\n",
    "    def on_train_begin(self, logs={}):\n",
    "        self.f1s = 0\n",
    "    def on_epoch_end(self, batch, logs={}):\n",
    "        predict = np.asarray(np.round(self.model.predict(self.validation_data[0])))\n",
    "        targ = self.validation_data[1]\n",
    "        f1 = f1_score(targ, predict)\n",
    "        print (\"\\nF1 on dev: \"+str(f1)+\"\\n\")\n",
    "        if (self.f1s < f1):\n",
    "            self.f1s = f1\n",
    "            self.model.save('./model/Best_EMRS_model_f1_.hdf5')\n",
    "            print(\"Modelo guardado\\n\")\n",
    "        return\n",
    "    \n",
    "metrics = Metrics()"
   ]
  },
  {
   "cell_type": "code",
   "execution_count": 11,
   "metadata": {
    "scrolled": true
   },
   "outputs": [
    {
     "name": "stdout",
     "output_type": "stream",
     "text": [
      "compile\n"
     ]
    }
   ],
   "source": [
    "sequence_input = Input(shape=(MAX_SEQUENCE_LENGTH,), dtype='int16')\n",
    "\n",
    "embedded_sequences = embedding_layer(sequence_input)\n",
    "x = Conv1D(64, 2, activation='relu')(embedded_sequences)\n",
    "x = GlobalMaxPooling1D()(x)\n",
    "y = Conv1D(64, 3, activation='relu')(embedded_sequences)\n",
    "y = GlobalMaxPooling1D()(y)\n",
    "z = Conv1D(64, 5, activation='relu')(embedded_sequences)\n",
    "z = GlobalMaxPooling1D()(z)\n",
    "\n",
    "x = Concatenate()([x,y,z])\n",
    "\n",
    "preds = Dense(1, activation='sigmoid')(x)\n",
    "Conv_model = Model(sequence_input, preds)\n",
    "print('compile')\n",
    "\n",
    "Conv_model.compile(loss='binary_crossentropy',\n",
    "              optimizer='Adam',\n",
    "              metrics=[Utils.precision,Utils.recall,Utils.fmeasure])\n",
    "\n",
    "#filepath=\"./model/weights-improvement.hdf5\"\n",
    "callbacks_list = [metrics]"
   ]
  },
  {
   "cell_type": "code",
   "execution_count": 12,
   "metadata": {
    "scrolled": true
   },
   "outputs": [
    {
     "name": "stdout",
     "output_type": "stream",
     "text": [
      "fit\n",
      "Train on 131940 samples, validate on 54976 samples\n",
      "Epoch 1/50\n",
      "131940/131940 [==============================] - 2759s 21ms/step - loss: 0.0229 - precision: 0.4822 - recall: 0.4359 - fmeasure: 0.4508 - val_loss: 0.0053 - val_precision: 0.0105 - val_recall: 0.0096 - val_fmeasure: 0.0100\n",
      "\n",
      "F1 on dev: 0.9512953367875647\n",
      "\n",
      "Modelo guardado\n",
      "\n",
      "Epoch 2/50\n",
      "131940/131940 [==============================] - 2650s 20ms/step - loss: 0.0044 - precision: 0.7905 - recall: 0.7484 - fmeasure: 0.7621 - val_loss: 0.0035 - val_precision: 0.0105 - val_recall: 0.0096 - val_fmeasure: 0.0100\n",
      "\n",
      "F1 on dev: 0.9523809523809524\n",
      "\n",
      "Modelo guardado\n",
      "\n",
      "Epoch 3/50\n",
      "131940/131940 [==============================] - 2646s 20ms/step - loss: 0.0032 - precision: 0.7977 - recall: 0.7577 - fmeasure: 0.7704 - val_loss: 0.0031 - val_precision: 0.0105 - val_recall: 0.0097 - val_fmeasure: 0.0100\n",
      "\n",
      "F1 on dev: 0.9557157569515963\n",
      "\n",
      "Modelo guardado\n",
      "\n",
      "Epoch 4/50\n",
      "131940/131940 [==============================] - 2646s 20ms/step - loss: 0.0025 - precision: 0.8258 - recall: 0.7891 - fmeasure: 0.8011 - val_loss: 0.0036 - val_precision: 0.0105 - val_recall: 0.0096 - val_fmeasure: 0.0100\n",
      "\n",
      "F1 on dev: 0.955440414507772\n",
      "\n",
      "Epoch 5/50\n",
      "131940/131940 [==============================] - 2649s 20ms/step - loss: 0.0021 - precision: 0.8149 - recall: 0.7905 - fmeasure: 0.7989 - val_loss: 0.0030 - val_precision: 0.0105 - val_recall: 0.0097 - val_fmeasure: 0.0101\n",
      "\n",
      "F1 on dev: 0.945233265720081\n",
      "\n",
      "Epoch 6/50\n",
      "131940/131940 [==============================] - 2649s 20ms/step - loss: 0.0015 - precision: 0.8177 - recall: 0.7976 - fmeasure: 0.8041 - val_loss: 0.0030 - val_precision: 0.0105 - val_recall: 0.0097 - val_fmeasure: 0.0100\n",
      "\n",
      "F1 on dev: 0.9547325102880659\n",
      "\n",
      "Epoch 7/50\n",
      "131940/131940 [==============================] - 2647s 20ms/step - loss: 0.0011 - precision: 0.8150 - recall: 0.7985 - fmeasure: 0.8041 - val_loss: 0.0031 - val_precision: 0.0105 - val_recall: 0.0096 - val_fmeasure: 0.0100\n",
      "\n",
      "F1 on dev: 0.9536560247167869\n",
      "\n",
      "Epoch 8/50\n",
      "131940/131940 [==============================] - 2646s 20ms/step - loss: 7.6521e-04 - precision: 0.8354 - recall: 0.8251 - fmeasure: 0.8284 - val_loss: 0.0031 - val_precision: 0.0105 - val_recall: 0.0097 - val_fmeasure: 0.0101\n",
      "\n",
      "F1 on dev: 0.9518935516888434\n",
      "\n",
      "Epoch 9/50\n",
      "131940/131940 [==============================] - 2651s 20ms/step - loss: 4.9012e-04 - precision: 0.8446 - recall: 0.8415 - fmeasure: 0.8423 - val_loss: 0.0031 - val_precision: 0.0105 - val_recall: 0.0098 - val_fmeasure: 0.0101\n",
      "\n",
      "F1 on dev: 0.9494949494949495\n",
      "\n",
      "Epoch 10/50\n",
      "131940/131940 [==============================] - 2651s 20ms/step - loss: 2.9728e-04 - precision: 0.8526 - recall: 0.8498 - fmeasure: 0.8507 - val_loss: 0.0035 - val_precision: 0.0105 - val_recall: 0.0096 - val_fmeasure: 0.0100\n",
      "\n",
      "F1 on dev: 0.9537512846865366\n",
      "\n",
      "Epoch 11/50\n",
      "131940/131940 [==============================] - 2652s 20ms/step - loss: 1.6840e-04 - precision: 0.8363 - recall: 0.8363 - fmeasure: 0.8363 - val_loss: 0.0034 - val_precision: 0.0105 - val_recall: 0.0097 - val_fmeasure: 0.0101\n",
      "\n",
      "F1 on dev: 0.952965235173824\n",
      "\n",
      "Epoch 12/50\n",
      "131940/131940 [==============================] - 2651s 20ms/step - loss: 1.2028e-04 - precision: 0.8299 - recall: 0.8302 - fmeasure: 0.8301 - val_loss: 0.0034 - val_precision: 0.0105 - val_recall: 0.0097 - val_fmeasure: 0.0101\n",
      "\n",
      "F1 on dev: 0.9520897043832824\n",
      "\n",
      "Epoch 13/50\n",
      "131940/131940 [==============================] - 2651s 20ms/step - loss: 8.2078e-05 - precision: 0.8514 - recall: 0.8514 - fmeasure: 0.8514 - val_loss: 0.0037 - val_precision: 0.0105 - val_recall: 0.0097 - val_fmeasure: 0.0101\n",
      "\n",
      "F1 on dev: 0.9558067831449126\n",
      "\n",
      "Modelo guardado\n",
      "\n",
      "Epoch 14/50\n",
      "131940/131940 [==============================] - 2651s 20ms/step - loss: 4.6258e-05 - precision: 0.8226 - recall: 0.8226 - fmeasure: 0.8226 - val_loss: 0.0039 - val_precision: 0.0105 - val_recall: 0.0097 - val_fmeasure: 0.0100\n",
      "\n",
      "F1 on dev: 0.9527720739219713\n",
      "\n",
      "Epoch 15/50\n",
      "131940/131940 [==============================] - 2651s 20ms/step - loss: 3.1153e-05 - precision: 0.8393 - recall: 0.8393 - fmeasure: 0.8393 - val_loss: 0.0041 - val_precision: 0.0105 - val_recall: 0.0097 - val_fmeasure: 0.0100\n",
      "\n",
      "F1 on dev: 0.956701030927835\n",
      "\n",
      "Modelo guardado\n",
      "\n",
      "Epoch 16/50\n",
      "131940/131940 [==============================] - 2651s 20ms/step - loss: 2.0464e-05 - precision: 0.8519 - recall: 0.8519 - fmeasure: 0.8519 - val_loss: 0.0044 - val_precision: 0.0105 - val_recall: 0.0097 - val_fmeasure: 0.0100\n",
      "\n",
      "F1 on dev: 0.956701030927835\n",
      "\n",
      "Epoch 17/50\n",
      "131940/131940 [==============================] - 2651s 20ms/step - loss: 1.4528e-05 - precision: 0.8348 - recall: 0.8348 - fmeasure: 0.8348 - val_loss: 0.0047 - val_precision: 0.0105 - val_recall: 0.0097 - val_fmeasure: 0.0100\n",
      "\n",
      "F1 on dev: 0.956701030927835\n",
      "\n",
      "Epoch 18/50\n",
      "131940/131940 [==============================] - 2650s 20ms/step - loss: 1.0740e-05 - precision: 0.8226 - recall: 0.8226 - fmeasure: 0.8226 - val_loss: 0.0043 - val_precision: 0.0105 - val_recall: 0.0097 - val_fmeasure: 0.0101\n",
      "\n",
      "F1 on dev: 0.9538461538461539\n",
      "\n",
      "Epoch 19/50\n",
      "131940/131940 [==============================] - 2651s 20ms/step - loss: 7.5996e-06 - precision: 0.8242 - recall: 0.8242 - fmeasure: 0.8242 - val_loss: 0.0049 - val_precision: 0.0105 - val_recall: 0.0097 - val_fmeasure: 0.0100\n",
      "\n",
      "F1 on dev: 0.956701030927835\n",
      "\n",
      "Epoch 20/50\n",
      "131940/131940 [==============================] - 2651s 20ms/step - loss: 5.4740e-06 - precision: 0.8545 - recall: 0.8545 - fmeasure: 0.8545 - val_loss: 0.0055 - val_precision: 0.0105 - val_recall: 0.0096 - val_fmeasure: 0.0100\n",
      "\n",
      "F1 on dev: 0.9566115702479339\n",
      "\n",
      "Epoch 21/50\n",
      "131940/131940 [==============================] - 2654s 20ms/step - loss: 3.8214e-06 - precision: 0.8398 - recall: 0.8398 - fmeasure: 0.8398 - val_loss: 0.0052 - val_precision: 0.0105 - val_recall: 0.0097 - val_fmeasure: 0.0100\n",
      "\n",
      "F1 on dev: 0.956701030927835\n",
      "\n",
      "Epoch 22/50\n",
      "131940/131940 [==============================] - 2656s 20ms/step - loss: 2.7415e-06 - precision: 0.8439 - recall: 0.8439 - fmeasure: 0.8439 - val_loss: 0.0056 - val_precision: 0.0105 - val_recall: 0.0096 - val_fmeasure: 0.0100\n",
      "\n",
      "F1 on dev: 0.95562435500516\n",
      "\n",
      "Epoch 23/50\n",
      "131940/131940 [==============================] - 2650s 20ms/step - loss: 2.0415e-06 - precision: 0.8443 - recall: 0.8443 - fmeasure: 0.8443 - val_loss: 0.0052 - val_precision: 0.0105 - val_recall: 0.0097 - val_fmeasure: 0.0100\n",
      "\n",
      "F1 on dev: 0.9547325102880659\n",
      "\n",
      "Epoch 24/50\n",
      "131940/131940 [==============================] - 2641s 20ms/step - loss: 1.4971e-06 - precision: 0.8545 - recall: 0.8545 - fmeasure: 0.8545 - val_loss: 0.0058 - val_precision: 0.0105 - val_recall: 0.0097 - val_fmeasure: 0.0100\n",
      "\n",
      "F1 on dev: 0.956701030927835\n",
      "\n",
      "Epoch 25/50\n",
      "131940/131940 [==============================] - 2642s 20ms/step - loss: 1.0566e-06 - precision: 0.8333 - recall: 0.8333 - fmeasure: 0.8333 - val_loss: 0.0056 - val_precision: 0.0105 - val_recall: 0.0097 - val_fmeasure: 0.0100\n",
      "\n",
      "F1 on dev: 0.956701030927835\n",
      "\n",
      "Epoch 26/50\n",
      "131940/131940 [==============================] - 2644s 20ms/step - loss: 7.8290e-07 - precision: 0.8302 - recall: 0.8302 - fmeasure: 0.8302 - val_loss: 0.0057 - val_precision: 0.0105 - val_recall: 0.0097 - val_fmeasure: 0.0100\n",
      "\n",
      "F1 on dev: 0.956701030927835\n",
      "\n",
      "Epoch 27/50\n",
      "131940/131940 [==============================] - 2662s 20ms/step - loss: 6.0284e-07 - precision: 0.8211 - recall: 0.8211 - fmeasure: 0.8211 - val_loss: 0.0060 - val_precision: 0.0105 - val_recall: 0.0097 - val_fmeasure: 0.0100\n",
      "\n",
      "F1 on dev: 0.956701030927835\n",
      "\n",
      "Epoch 28/50\n",
      "123800/131940 [===========================>..] - ETA: 2:24 - loss: 4.7793e-07 - precision: 0.8320 - recall: 0.8320 - fmeasure: 0.8320"
     ]
    },
    {
     "ename": "KeyboardInterrupt",
     "evalue": "",
     "output_type": "error",
     "traceback": [
      "\u001b[0;31m---------------------------------------------------------------------------\u001b[0m",
      "\u001b[0;31mKeyboardInterrupt\u001b[0m                         Traceback (most recent call last)",
      "\u001b[0;32m<ipython-input-12-8b5e6340f094>\u001b[0m in \u001b[0;36m<module>\u001b[0;34m()\u001b[0m\n\u001b[1;32m      6\u001b[0m       \u001b[0mepochs\u001b[0m\u001b[0;34m=\u001b[0m\u001b[0;36m50\u001b[0m\u001b[0;34m,\u001b[0m\u001b[0;34m\u001b[0m\u001b[0m\n\u001b[1;32m      7\u001b[0m       \u001b[0mcallbacks\u001b[0m\u001b[0;34m=\u001b[0m\u001b[0mcallbacks_list\u001b[0m\u001b[0;34m,\u001b[0m\u001b[0;34m\u001b[0m\u001b[0m\n\u001b[0;32m----> 8\u001b[0;31m       validation_data=(Xtest, Ytest))\n\u001b[0m",
      "\u001b[0;32m/usr/local/lib/python3.5/dist-packages/keras/engine/training.py\u001b[0m in \u001b[0;36mfit\u001b[0;34m(self, x, y, batch_size, epochs, verbose, callbacks, validation_split, validation_data, shuffle, class_weight, sample_weight, initial_epoch, steps_per_epoch, validation_steps, **kwargs)\u001b[0m\n\u001b[1;32m   1703\u001b[0m                               \u001b[0minitial_epoch\u001b[0m\u001b[0;34m=\u001b[0m\u001b[0minitial_epoch\u001b[0m\u001b[0;34m,\u001b[0m\u001b[0;34m\u001b[0m\u001b[0m\n\u001b[1;32m   1704\u001b[0m                               \u001b[0msteps_per_epoch\u001b[0m\u001b[0;34m=\u001b[0m\u001b[0msteps_per_epoch\u001b[0m\u001b[0;34m,\u001b[0m\u001b[0;34m\u001b[0m\u001b[0m\n\u001b[0;32m-> 1705\u001b[0;31m                               validation_steps=validation_steps)\n\u001b[0m\u001b[1;32m   1706\u001b[0m \u001b[0;34m\u001b[0m\u001b[0m\n\u001b[1;32m   1707\u001b[0m     def evaluate(self, x=None, y=None,\n",
      "\u001b[0;32m/usr/local/lib/python3.5/dist-packages/keras/engine/training.py\u001b[0m in \u001b[0;36m_fit_loop\u001b[0;34m(self, f, ins, out_labels, batch_size, epochs, verbose, callbacks, val_f, val_ins, shuffle, callback_metrics, initial_epoch, steps_per_epoch, validation_steps)\u001b[0m\n\u001b[1;32m   1234\u001b[0m                         \u001b[0mins_batch\u001b[0m\u001b[0;34m[\u001b[0m\u001b[0mi\u001b[0m\u001b[0;34m]\u001b[0m \u001b[0;34m=\u001b[0m \u001b[0mins_batch\u001b[0m\u001b[0;34m[\u001b[0m\u001b[0mi\u001b[0m\u001b[0;34m]\u001b[0m\u001b[0;34m.\u001b[0m\u001b[0mtoarray\u001b[0m\u001b[0;34m(\u001b[0m\u001b[0;34m)\u001b[0m\u001b[0;34m\u001b[0m\u001b[0m\n\u001b[1;32m   1235\u001b[0m \u001b[0;34m\u001b[0m\u001b[0m\n\u001b[0;32m-> 1236\u001b[0;31m                     \u001b[0mouts\u001b[0m \u001b[0;34m=\u001b[0m \u001b[0mf\u001b[0m\u001b[0;34m(\u001b[0m\u001b[0mins_batch\u001b[0m\u001b[0;34m)\u001b[0m\u001b[0;34m\u001b[0m\u001b[0m\n\u001b[0m\u001b[1;32m   1237\u001b[0m                     \u001b[0;32mif\u001b[0m \u001b[0;32mnot\u001b[0m \u001b[0misinstance\u001b[0m\u001b[0;34m(\u001b[0m\u001b[0mouts\u001b[0m\u001b[0;34m,\u001b[0m \u001b[0mlist\u001b[0m\u001b[0;34m)\u001b[0m\u001b[0;34m:\u001b[0m\u001b[0;34m\u001b[0m\u001b[0m\n\u001b[1;32m   1238\u001b[0m                         \u001b[0mouts\u001b[0m \u001b[0;34m=\u001b[0m \u001b[0;34m[\u001b[0m\u001b[0mouts\u001b[0m\u001b[0;34m]\u001b[0m\u001b[0;34m\u001b[0m\u001b[0m\n",
      "\u001b[0;32m/usr/local/lib/python3.5/dist-packages/keras/backend/tensorflow_backend.py\u001b[0m in \u001b[0;36m__call__\u001b[0;34m(self, inputs)\u001b[0m\n\u001b[1;32m   2480\u001b[0m         \u001b[0msession\u001b[0m \u001b[0;34m=\u001b[0m \u001b[0mget_session\u001b[0m\u001b[0;34m(\u001b[0m\u001b[0;34m)\u001b[0m\u001b[0;34m\u001b[0m\u001b[0m\n\u001b[1;32m   2481\u001b[0m         updated = session.run(fetches=fetches, feed_dict=feed_dict,\n\u001b[0;32m-> 2482\u001b[0;31m                               **self.session_kwargs)\n\u001b[0m\u001b[1;32m   2483\u001b[0m         \u001b[0;32mreturn\u001b[0m \u001b[0mupdated\u001b[0m\u001b[0;34m[\u001b[0m\u001b[0;34m:\u001b[0m\u001b[0mlen\u001b[0m\u001b[0;34m(\u001b[0m\u001b[0mself\u001b[0m\u001b[0;34m.\u001b[0m\u001b[0moutputs\u001b[0m\u001b[0;34m)\u001b[0m\u001b[0;34m]\u001b[0m\u001b[0;34m\u001b[0m\u001b[0m\n\u001b[1;32m   2484\u001b[0m \u001b[0;34m\u001b[0m\u001b[0m\n",
      "\u001b[0;32m/usr/local/lib/python3.5/dist-packages/tensorflow/python/client/session.py\u001b[0m in \u001b[0;36mrun\u001b[0;34m(self, fetches, feed_dict, options, run_metadata)\u001b[0m\n\u001b[1;32m    903\u001b[0m     \u001b[0;32mtry\u001b[0m\u001b[0;34m:\u001b[0m\u001b[0;34m\u001b[0m\u001b[0m\n\u001b[1;32m    904\u001b[0m       result = self._run(None, fetches, feed_dict, options_ptr,\n\u001b[0;32m--> 905\u001b[0;31m                          run_metadata_ptr)\n\u001b[0m\u001b[1;32m    906\u001b[0m       \u001b[0;32mif\u001b[0m \u001b[0mrun_metadata\u001b[0m\u001b[0;34m:\u001b[0m\u001b[0;34m\u001b[0m\u001b[0m\n\u001b[1;32m    907\u001b[0m         \u001b[0mproto_data\u001b[0m \u001b[0;34m=\u001b[0m \u001b[0mtf_session\u001b[0m\u001b[0;34m.\u001b[0m\u001b[0mTF_GetBuffer\u001b[0m\u001b[0;34m(\u001b[0m\u001b[0mrun_metadata_ptr\u001b[0m\u001b[0;34m)\u001b[0m\u001b[0;34m\u001b[0m\u001b[0m\n",
      "\u001b[0;32m/usr/local/lib/python3.5/dist-packages/tensorflow/python/client/session.py\u001b[0m in \u001b[0;36m_run\u001b[0;34m(self, handle, fetches, feed_dict, options, run_metadata)\u001b[0m\n\u001b[1;32m   1138\u001b[0m     \u001b[0;32mif\u001b[0m \u001b[0mfinal_fetches\u001b[0m \u001b[0;32mor\u001b[0m \u001b[0mfinal_targets\u001b[0m \u001b[0;32mor\u001b[0m \u001b[0;34m(\u001b[0m\u001b[0mhandle\u001b[0m \u001b[0;32mand\u001b[0m \u001b[0mfeed_dict_tensor\u001b[0m\u001b[0;34m)\u001b[0m\u001b[0;34m:\u001b[0m\u001b[0;34m\u001b[0m\u001b[0m\n\u001b[1;32m   1139\u001b[0m       results = self._do_run(handle, final_targets, final_fetches,\n\u001b[0;32m-> 1140\u001b[0;31m                              feed_dict_tensor, options, run_metadata)\n\u001b[0m\u001b[1;32m   1141\u001b[0m     \u001b[0;32melse\u001b[0m\u001b[0;34m:\u001b[0m\u001b[0;34m\u001b[0m\u001b[0m\n\u001b[1;32m   1142\u001b[0m       \u001b[0mresults\u001b[0m \u001b[0;34m=\u001b[0m \u001b[0;34m[\u001b[0m\u001b[0;34m]\u001b[0m\u001b[0;34m\u001b[0m\u001b[0m\n",
      "\u001b[0;32m/usr/local/lib/python3.5/dist-packages/tensorflow/python/client/session.py\u001b[0m in \u001b[0;36m_do_run\u001b[0;34m(self, handle, target_list, fetch_list, feed_dict, options, run_metadata)\u001b[0m\n\u001b[1;32m   1319\u001b[0m     \u001b[0;32mif\u001b[0m \u001b[0mhandle\u001b[0m \u001b[0;32mis\u001b[0m \u001b[0;32mNone\u001b[0m\u001b[0;34m:\u001b[0m\u001b[0;34m\u001b[0m\u001b[0m\n\u001b[1;32m   1320\u001b[0m       return self._do_call(_run_fn, feeds, fetches, targets, options,\n\u001b[0;32m-> 1321\u001b[0;31m                            run_metadata)\n\u001b[0m\u001b[1;32m   1322\u001b[0m     \u001b[0;32melse\u001b[0m\u001b[0;34m:\u001b[0m\u001b[0;34m\u001b[0m\u001b[0m\n\u001b[1;32m   1323\u001b[0m       \u001b[0;32mreturn\u001b[0m \u001b[0mself\u001b[0m\u001b[0;34m.\u001b[0m\u001b[0m_do_call\u001b[0m\u001b[0;34m(\u001b[0m\u001b[0m_prun_fn\u001b[0m\u001b[0;34m,\u001b[0m \u001b[0mhandle\u001b[0m\u001b[0;34m,\u001b[0m \u001b[0mfeeds\u001b[0m\u001b[0;34m,\u001b[0m \u001b[0mfetches\u001b[0m\u001b[0;34m)\u001b[0m\u001b[0;34m\u001b[0m\u001b[0m\n",
      "\u001b[0;32m/usr/local/lib/python3.5/dist-packages/tensorflow/python/client/session.py\u001b[0m in \u001b[0;36m_do_call\u001b[0;34m(self, fn, *args)\u001b[0m\n\u001b[1;32m   1325\u001b[0m   \u001b[0;32mdef\u001b[0m \u001b[0m_do_call\u001b[0m\u001b[0;34m(\u001b[0m\u001b[0mself\u001b[0m\u001b[0;34m,\u001b[0m \u001b[0mfn\u001b[0m\u001b[0;34m,\u001b[0m \u001b[0;34m*\u001b[0m\u001b[0margs\u001b[0m\u001b[0;34m)\u001b[0m\u001b[0;34m:\u001b[0m\u001b[0;34m\u001b[0m\u001b[0m\n\u001b[1;32m   1326\u001b[0m     \u001b[0;32mtry\u001b[0m\u001b[0;34m:\u001b[0m\u001b[0;34m\u001b[0m\u001b[0m\n\u001b[0;32m-> 1327\u001b[0;31m       \u001b[0;32mreturn\u001b[0m \u001b[0mfn\u001b[0m\u001b[0;34m(\u001b[0m\u001b[0;34m*\u001b[0m\u001b[0margs\u001b[0m\u001b[0;34m)\u001b[0m\u001b[0;34m\u001b[0m\u001b[0m\n\u001b[0m\u001b[1;32m   1328\u001b[0m     \u001b[0;32mexcept\u001b[0m \u001b[0merrors\u001b[0m\u001b[0;34m.\u001b[0m\u001b[0mOpError\u001b[0m \u001b[0;32mas\u001b[0m \u001b[0me\u001b[0m\u001b[0;34m:\u001b[0m\u001b[0;34m\u001b[0m\u001b[0m\n\u001b[1;32m   1329\u001b[0m       \u001b[0mmessage\u001b[0m \u001b[0;34m=\u001b[0m \u001b[0mcompat\u001b[0m\u001b[0;34m.\u001b[0m\u001b[0mas_text\u001b[0m\u001b[0;34m(\u001b[0m\u001b[0me\u001b[0m\u001b[0;34m.\u001b[0m\u001b[0mmessage\u001b[0m\u001b[0;34m)\u001b[0m\u001b[0;34m\u001b[0m\u001b[0m\n",
      "\u001b[0;32m/usr/local/lib/python3.5/dist-packages/tensorflow/python/client/session.py\u001b[0m in \u001b[0;36m_run_fn\u001b[0;34m(feed_dict, fetch_list, target_list, options, run_metadata)\u001b[0m\n\u001b[1;32m   1310\u001b[0m       \u001b[0mself\u001b[0m\u001b[0;34m.\u001b[0m\u001b[0m_extend_graph\u001b[0m\u001b[0;34m(\u001b[0m\u001b[0;34m)\u001b[0m\u001b[0;34m\u001b[0m\u001b[0m\n\u001b[1;32m   1311\u001b[0m       return self._call_tf_sessionrun(\n\u001b[0;32m-> 1312\u001b[0;31m           options, feed_dict, fetch_list, target_list, run_metadata)\n\u001b[0m\u001b[1;32m   1313\u001b[0m \u001b[0;34m\u001b[0m\u001b[0m\n\u001b[1;32m   1314\u001b[0m     \u001b[0;32mdef\u001b[0m \u001b[0m_prun_fn\u001b[0m\u001b[0;34m(\u001b[0m\u001b[0mhandle\u001b[0m\u001b[0;34m,\u001b[0m \u001b[0mfeed_dict\u001b[0m\u001b[0;34m,\u001b[0m \u001b[0mfetch_list\u001b[0m\u001b[0;34m)\u001b[0m\u001b[0;34m:\u001b[0m\u001b[0;34m\u001b[0m\u001b[0m\n",
      "\u001b[0;32m/usr/local/lib/python3.5/dist-packages/tensorflow/python/client/session.py\u001b[0m in \u001b[0;36m_call_tf_sessionrun\u001b[0;34m(self, options, feed_dict, fetch_list, target_list, run_metadata)\u001b[0m\n\u001b[1;32m   1418\u001b[0m         return tf_session.TF_Run(\n\u001b[1;32m   1419\u001b[0m             \u001b[0mself\u001b[0m\u001b[0;34m.\u001b[0m\u001b[0m_session\u001b[0m\u001b[0;34m,\u001b[0m \u001b[0moptions\u001b[0m\u001b[0;34m,\u001b[0m \u001b[0mfeed_dict\u001b[0m\u001b[0;34m,\u001b[0m \u001b[0mfetch_list\u001b[0m\u001b[0;34m,\u001b[0m \u001b[0mtarget_list\u001b[0m\u001b[0;34m,\u001b[0m\u001b[0;34m\u001b[0m\u001b[0m\n\u001b[0;32m-> 1420\u001b[0;31m             status, run_metadata)\n\u001b[0m\u001b[1;32m   1421\u001b[0m \u001b[0;34m\u001b[0m\u001b[0m\n\u001b[1;32m   1422\u001b[0m   \u001b[0;32mdef\u001b[0m \u001b[0m_call_tf_sessionprun\u001b[0m\u001b[0;34m(\u001b[0m\u001b[0mself\u001b[0m\u001b[0;34m,\u001b[0m \u001b[0mhandle\u001b[0m\u001b[0;34m,\u001b[0m \u001b[0mfeed_dict\u001b[0m\u001b[0;34m,\u001b[0m \u001b[0mfetch_list\u001b[0m\u001b[0;34m)\u001b[0m\u001b[0;34m:\u001b[0m\u001b[0;34m\u001b[0m\u001b[0m\n",
      "\u001b[0;31mKeyboardInterrupt\u001b[0m: "
     ]
    }
   ],
   "source": [
    "print('fit')\n",
    "Conv_model.fit(Xtrain, Ytrain,\n",
    "      #class_weight=class_weight_dict,\n",
    "      shuffle=True,\n",
    "      batch_size=200,\n",
    "      epochs=50,\n",
    "      callbacks=callbacks_list,\n",
    "      validation_data=(Xtest, Ytest))"
   ]
  },
  {
   "cell_type": "code",
   "execution_count": 4,
   "metadata": {
    "collapsed": true,
    "scrolled": true
   },
   "outputs": [],
   "source": [
    "Best_model = load_model('./model/Best_EMRS_model_f1.hdf5', custom_objects={'precision': Utils.precision, 'recall':Utils.recall, 'fmeasure':Utils.fmeasure})"
   ]
  },
  {
   "cell_type": "code",
   "execution_count": 33,
   "metadata": {},
   "outputs": [
    {
     "name": "stdout",
     "output_type": "stream",
     "text": [
      "             precision    recall  f1-score   support\n",
      "\n",
      "      False     0.9993    0.9999    0.9996     54473\n",
      "       True     0.9894    0.9264    0.9569       503\n",
      "\n",
      "avg / total     0.9992    0.9992    0.9992     54976\n",
      "\n"
     ]
    }
   ],
   "source": [
    "result = np.round(Best_model.predict(Xtest))\n",
    "print(classification_report(Ytest, result, digits=4))"
   ]
  },
  {
   "cell_type": "code",
   "execution_count": 16,
   "metadata": {},
   "outputs": [
    {
     "data": {
      "text/plain": [
       "2769"
      ]
     },
     "execution_count": 16,
     "metadata": {},
     "output_type": "execute_result"
    }
   ],
   "source": [
    "del Conv_model\n",
    "gc.collect()"
   ]
  },
  {
   "cell_type": "code",
   "execution_count": 5,
   "metadata": {},
   "outputs": [
    {
     "name": "stdout",
     "output_type": "stream",
     "text": [
      "__________________________________________________________________________________________________\n",
      "Layer (type)                    Output Shape         Param #     Connected to                     \n",
      "==================================================================================================\n",
      "input_1 (InputLayer)            (None, 2000)         0                                            \n",
      "__________________________________________________________________________________________________\n",
      "embedding_1 (Embedding)         (None, 2000, 300)    6000000     input_1[0][0]                    \n",
      "__________________________________________________________________________________________________\n",
      "conv1d_1 (Conv1D)               (None, 1999, 64)     38464       embedding_1[0][0]                \n",
      "__________________________________________________________________________________________________\n",
      "conv1d_2 (Conv1D)               (None, 1998, 64)     57664       embedding_1[0][0]                \n",
      "__________________________________________________________________________________________________\n",
      "conv1d_3 (Conv1D)               (None, 1996, 64)     96064       embedding_1[0][0]                \n",
      "__________________________________________________________________________________________________\n",
      "global_max_pooling1d_1 (GlobalM (None, 64)           0           conv1d_1[0][0]                   \n",
      "__________________________________________________________________________________________________\n",
      "global_max_pooling1d_2 (GlobalM (None, 64)           0           conv1d_2[0][0]                   \n",
      "__________________________________________________________________________________________________\n",
      "global_max_pooling1d_3 (GlobalM (None, 64)           0           conv1d_3[0][0]                   \n",
      "__________________________________________________________________________________________________\n",
      "concatenate_1 (Concatenate)     (None, 192)          0           global_max_pooling1d_1[0][0]     \n",
      "                                                                 global_max_pooling1d_2[0][0]     \n",
      "                                                                 global_max_pooling1d_3[0][0]     \n",
      "__________________________________________________________________________________________________\n",
      "dense_1 (Dense)                 (None, 1)            193         concatenate_1[0][0]              \n",
      "==================================================================================================\n",
      "Total params: 6,192,385\n",
      "Trainable params: 192,385\n",
      "Non-trainable params: 6,000,000\n",
      "__________________________________________________________________________________________________\n"
     ]
    }
   ],
   "source": [
    "Best_model.summary()"
   ]
  }
 ],
 "metadata": {
  "kernelspec": {
   "display_name": "Python 3",
   "language": "python",
   "name": "python3"
  },
  "language_info": {
   "codemirror_mode": {
    "name": "ipython",
    "version": 3
   },
   "file_extension": ".py",
   "mimetype": "text/x-python",
   "name": "python",
   "nbconvert_exporter": "python",
   "pygments_lexer": "ipython3",
   "version": "3.6.8"
  }
 },
 "nbformat": 4,
 "nbformat_minor": 2
}
