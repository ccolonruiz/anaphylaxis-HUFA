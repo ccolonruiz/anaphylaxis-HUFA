{
 "cells": [
  {
   "cell_type": "code",
   "execution_count": 1,
   "metadata": {
    "collapsed": true
   },
   "outputs": [],
   "source": [
    "import pandas as pd\n",
    "import time\n",
    "import numpy as np\n",
    "import scipy.sparse as sparse\n",
    "from sklearn.cluster import KMeans, MiniBatchKMeans\n",
    "from sklearn.metrics import pairwise_distances_argmin_min\n",
    "from imblearn.over_sampling import ADASYN\n",
    "from imblearn.over_sampling import SMOTE\n",
    "from imblearn.combine import SMOTEENN\n",
    "from imblearn.combine import SMOTETomek\n",
    "from imblearn.under_sampling import TomekLinks\n",
    "from imblearn.under_sampling import EditedNearestNeighbours\n",
    "from imblearn.under_sampling import RepeatedEditedNearestNeighbours"
   ]
  },
  {
   "cell_type": "code",
   "execution_count": 3,
   "metadata": {
    "scrolled": true
   },
   "outputs": [
    {
     "name": "stdout",
     "output_type": "stream",
     "text": [
      "Loaded train_centroids into data: (164926, 100066) (1509, 100066) (163417, 100066)\n"
     ]
    }
   ],
   "source": [
    "path_data = \"../hufa_train_wiki_w2v/full_centroids_train.npz\"\n",
    "\n",
    "# Load clear_labeled_data\n",
    "data = sparse.load_npz(path_data)\n",
    "\n",
    "p_row_index = data[:,-1].nonzero()[0]\n",
    "n_row_index = np.delete(np.arange(0, data.shape[0]), p_row_index)\n",
    "positivos = data[p_row_index,:]\n",
    "negativos = data[n_row_index,:]\n",
    "\n",
    "print (\"Loaded train_centroids into data:\", data.shape, positivos.shape, negativos.shape)"
   ]
  },
  {
   "cell_type": "code",
   "execution_count": 6,
   "metadata": {
    "collapsed": true,
    "scrolled": true
   },
   "outputs": [],
   "source": [
    "start = time.time() # Start time\n",
    "MClass = negativos[:,:-1]\n",
    "kmedias = MiniBatchKMeans(n_clusters=10000, batch_size=10000,).fit(MClass)\n",
    "#kmedias = MiniBatchKMeans(n_clusters=10000, batch_size=3334,).fit(MClass) #2100 sec aprox\n",
    "new_Xtrain_MClass = MClass[pairwise_distances_argmin_min(kmedias.cluster_centers_, MClass)[0]]\n",
    "US_MClass = sparse.hstack([new_Xtrain_MClass, np.zeros((kmedias.cluster_centers_.shape[0], 1), dtype=np.uint16)]).tocsr()\n",
    "data_temp = sparse.vstack([US_MClass, positivos])\n",
    "sparse.save_npz(\"../hufa_train_wiki_w2v/data_temp.npz\", data_temp)\n",
    "end = time.time()\n",
    "elapsed = end - start\n",
    "print(\"Finished, Time taken: \", elapsed, \"seconds.\")"
   ]
  },
  {
   "cell_type": "code",
   "execution_count": 4,
   "metadata": {
    "scrolled": true
   },
   "outputs": [
    {
     "name": "stdout",
     "output_type": "stream",
     "text": [
      "1509\n",
      "(-):\t[ 1198 ] to [ 10000 ]\n",
      "(+):\t[ 10000 ] to [ 10000 ]\n",
      "(-):\t[ 10000 ] to [ 10000 ]\n",
      "maxvalue:  5181.0 minvalue:  0.0\n",
      "Finished, Time taken:  18.05573582649231 seconds.\n"
     ]
    }
   ],
   "source": [
    "try:\n",
    "    data_temp\n",
    "except NameError:\n",
    "    data_temp = sparse.load_npz(\"../hufa_train_wiki_w2v/data_temp.npz\")\n",
    "\n",
    "#print(data_temp.max())\n",
    "start = time.time() # Start time\n",
    "\n",
    "balancedData = data_temp.astype(float)\n",
    "smt = SMOTE(n_jobs=-1)\n",
    "#ada = ADASYN(n_jobs=-1)\n",
    "#tomek = TomekLinks(ratio={1:0}, n_jobs=-1)\n",
    "enn = RepeatedEditedNearestNeighbours(ratio={1:0}, n_jobs=-1)\n",
    "\n",
    "print(balancedData[balancedData[:,-1].nonzero()[0],:].shape[0])\n",
    "X_res, y_res = enn.fit_sample(balancedData[:,:-1], balancedData[:,-1].A.reshape(balancedData[:,-1].A.shape[0],))\n",
    "balancedData = sparse.hstack([X_res, y_res.reshape(y_res.shape[0],1)]).tocsr()\n",
    "print (\"(-):\\t[\",balancedData[balancedData[:,-1].nonzero()[0],:].shape[0],\"] to [\",balancedData[np.delete(np.arange(0, balancedData.shape[0]), balancedData[:,-1].nonzero()[0]),:].shape[0],\"]\")\n",
    "\n",
    "X_res, y_res = smt.fit_sample(balancedData[:,:-1], balancedData[:,-1].A.reshape(balancedData[:,-1].A.shape[0],))\n",
    "#balancedData = np.concatenate((X_res, np.reshape(y_res, (y_res.shape[0], 1))), axis=1)\n",
    "balancedData = sparse.hstack([X_res, y_res.reshape(y_res.shape[0],1)]).tocsr()\n",
    "print (\"(+):\\t[\",balancedData[balancedData[:,-1].nonzero()[0],:].shape[0],\"] to [\",balancedData[np.delete(np.arange(0, balancedData.shape[0]), balancedData[:,-1].nonzero()[0]),:].shape[0],\"]\")\n",
    "\n",
    "X_res, y_res = enn.fit_sample(balancedData[:,:-1], balancedData[:,-1].A.reshape(balancedData[:,-1].A.shape[0],))\n",
    "balancedData = sparse.hstack([X_res, y_res.reshape(y_res.shape[0],1)]).tocsr()\n",
    "print (\"(-):\\t[\",balancedData[balancedData[:,-1].nonzero()[0],:].shape[0],\"] to [\",balancedData[np.delete(np.arange(0, balancedData.shape[0]), balancedData[:,-1].nonzero()[0]),:].shape[0],\"]\")\n",
    "\n",
    "#print (\"(-):\\t[\",balancedData[balancedData[:,-1]==1].shape[0],\"] to [\",balancedData[balancedData[:,-1]==0].shape[0],\"]\")\n",
    "print (\"maxvalue: \",balancedData.max(), \"minvalue: \", balancedData.min())\n",
    "    \n",
    "#if balancedData.max() < np.iinfo(np.uint16).max:\n",
    "#    print (\"\\t- Optimizing dtypes...\")\n",
    "#    balancedData = balancedData.astype(np.uint16, copy=False)\n",
    "    \n",
    "del X_res, y_res\n",
    "end = time.time()\n",
    "elapsed = end - start\n",
    "print(\"Finished, Time taken: \", elapsed, \"seconds.\") #1333"
   ]
  },
  {
   "cell_type": "code",
   "execution_count": 3,
   "metadata": {},
   "outputs": [
    {
     "name": "stdout",
     "output_type": "stream",
     "text": [
      "Saving balanced instances...\n",
      "Finished\n"
     ]
    }
   ],
   "source": [
    "path_balanced = \"../hufa_train_wiki_w2v/train_9.npz\"\n",
    "print(\"Saving balanced instances...\")\n",
    "sparse.save_npz(path_balanced, balancedData)\n",
    "print(\"Finished\")"
   ]
  }
 ],
 "metadata": {
  "kernelspec": {
   "display_name": "Python 3",
   "language": "python",
   "name": "python3"
  },
  "language_info": {
   "codemirror_mode": {
    "name": "ipython",
    "version": 3
   },
   "file_extension": ".py",
   "mimetype": "text/x-python",
   "name": "python",
   "nbconvert_exporter": "python",
   "pygments_lexer": "ipython3",
   "version": "3.6.8"
  }
 },
 "nbformat": 4,
 "nbformat_minor": 2
}
